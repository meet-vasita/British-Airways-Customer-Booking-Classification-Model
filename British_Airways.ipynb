{
  "cells": [
    {
      "cell_type": "code",
      "execution_count": 1,
      "metadata": {
        "id": "al7-Ml-Suqg_"
      },
      "outputs": [],
      "source": [
        "#Importing the Data Manipulation Libraries\n",
        "import numpy as np\n",
        "import pandas as pd\n",
        "#Importing the Data Visualization Libraries\n",
        "import seaborn as sns\n",
        "import matplotlib.pyplot as plt\n",
        "#Importing the Warning Library\n",
        "import warnings\n",
        "warnings.filterwarnings('ignore')\n",
        "#Importing the Logging Library\n",
        "import logging\n",
        "logging.basicConfig(level=logging.INFO,\n",
        "                    filemode='w',\n",
        "                    format='%(asctime)s - %(levelname)s - %(message)s',\n",
        "                    filename='British Airways ML Model.log',\n",
        "                    force=True)\n",
        "logging.getLogger('matplotlib').setLevel(logging.WARNING)\n"
      ]
    },
    {
      "cell_type": "code",
      "execution_count": 2,
      "metadata": {},
      "outputs": [],
      "source": [
        "logging.info('Importing the Dataset')"
      ]
    },
    {
      "cell_type": "code",
      "execution_count": 3,
      "metadata": {
        "id": "e_9n6RpGutrG"
      },
      "outputs": [],
      "source": [
        "df = pd.read_csv(\"Data/customer_booking.csv\", encoding=\"ISO-8859-1\")\n",
        "df = df.sample(frac=1,random_state=42)"
      ]
    },
    {
      "cell_type": "code",
      "execution_count": 4,
      "metadata": {},
      "outputs": [],
      "source": [
        "logging.info('Dataset Imported Successfully')"
      ]
    },
    {
      "cell_type": "code",
      "execution_count": 5,
      "metadata": {
        "colab": {
          "base_uri": "https://localhost:8080/"
        },
        "id": "hZ7TOuY7utpB",
        "outputId": "3060ce00-0487-41b0-fdf9-fb7be612e18e"
      },
      "outputs": [
        {
          "name": "stdout",
          "output_type": "stream",
          "text": [
            "<class 'pandas.core.frame.DataFrame'>\n",
            "Index: 50000 entries, 33553 to 15795\n",
            "Data columns (total 14 columns):\n",
            " #   Column                 Non-Null Count  Dtype  \n",
            "---  ------                 --------------  -----  \n",
            " 0   num_passengers         50000 non-null  int64  \n",
            " 1   sales_channel          50000 non-null  object \n",
            " 2   trip_type              50000 non-null  object \n",
            " 3   purchase_lead          50000 non-null  int64  \n",
            " 4   length_of_stay         50000 non-null  int64  \n",
            " 5   flight_hour            50000 non-null  int64  \n",
            " 6   flight_day             50000 non-null  object \n",
            " 7   route                  50000 non-null  object \n",
            " 8   booking_origin         50000 non-null  object \n",
            " 9   wants_extra_baggage    50000 non-null  int64  \n",
            " 10  wants_preferred_seat   50000 non-null  int64  \n",
            " 11  wants_in_flight_meals  50000 non-null  int64  \n",
            " 12  flight_duration        50000 non-null  float64\n",
            " 13  booking_complete       50000 non-null  int64  \n",
            "dtypes: float64(1), int64(8), object(5)\n",
            "memory usage: 5.7+ MB\n"
          ]
        }
      ],
      "source": [
        "df.info()"
      ]
    },
    {
      "cell_type": "markdown",
      "metadata": {},
      "source": [
        "- `num_passengers` = number of passengers travelling\n",
        "- `sales_channel` = sales channel booking was made on\n",
        "- `trip_type` = trip Type (Round Trip, One Way, Circle Trip)\n",
        "- `purchase_lead` = number of days between travel date and booking date\n",
        "- `length_of_stay` = number of days spent at destination\n",
        "- `flight_hour` = hour of flight departure\n",
        "- `flight_day` = day of week of flight departure\n",
        "- `route` = origin -> destination flight route\n",
        "- `booking_origin` = country from where booking was made\n",
        "- `wants_extra_baggage` = if the customer wanted extra baggage in the booking\n",
        "- `wants_preferred_seat` = if the customer wanted a preferred seat in the booking\n",
        "- `wants_in_flight_meals` = if the customer wanted in-flight meals in the booking\n",
        "- `flight_duration` = total duration of flight (in hours)\n",
        "- `booking_complete` = flag indicating if the customer completed the booking"
      ]
    },
    {
      "cell_type": "code",
      "execution_count": 6,
      "metadata": {
        "colab": {
          "base_uri": "https://localhost:8080/"
        },
        "id": "894RkzF8utm9",
        "outputId": "25f4f683-d34e-484a-d604-01e22bf6ff38"
      },
      "outputs": [
        {
          "name": "stdout",
          "output_type": "stream",
          "text": [
            "Target distribution before processing:\n",
            "booking_complete\n",
            "0    42522\n",
            "1     7478\n",
            "Name: count, dtype: int64\n"
          ]
        }
      ],
      "source": [
        "# Check target distribution before processing\n",
        "print(\"Target distribution before processing:\")\n",
        "print(df['booking_complete'].value_counts())"
      ]
    },
    {
      "cell_type": "code",
      "execution_count": 7,
      "metadata": {},
      "outputs": [
        {
          "data": {
            "image/png": "[encoded data removed]",
            "text/plain": [
              "<Figure size 640x480 with 1 Axes>"
            ]
          },
          "metadata": {},
          "output_type": "display_data"
        }
      ],
      "source": [
        "# Cell 4: Univariate Visualization - Pie chart for sales_channel\n",
        "df['sales_channel'].value_counts().plot.pie(autopct='%1.1f%%', explode=[0.01,0.1])\n",
        "plt.title('Distribution of Sales Channel')\n",
        "plt.tight_layout()\n",
        "plt.show()"
      ]
    },
    {
      "cell_type": "code",
      "execution_count": 8,
      "metadata": {},
      "outputs": [
        {
          "data": {
            "image/png": "[encoded data removed]",
            "text/plain": [
              "<Figure size 800x600 with 1 Axes>"
            ]
          },
          "metadata": {},
          "output_type": "display_data"
        }
      ],
      "source": [
        "# Cell 5: Univariate Visualization - Pie chart for trip_type\n",
        "plt.figure(figsize=(8, 6))\n",
        "df['trip_type'].value_counts().plot.pie(autopct='%1.1f%%', explode=[0.01,0.2,0.1])\n",
        "plt.title('Distribution of Trip Type')\n",
        "plt.ylabel('')\n",
        "plt.tight_layout()\n",
        "plt.show()"
      ]
    },
    {
      "cell_type": "code",
      "execution_count": 9,
      "metadata": {},
      "outputs": [
        {
          "data": {
            "image/png": "[encoded data removed]",
            "text/plain": [
              "<Figure size 640x480 with 1 Axes>"
            ]
          },
          "metadata": {},
          "output_type": "display_data"
        }
      ],
      "source": [
        "# Cell 6: Univariate Visualization - Bar plot for flight_day\n",
        "sns.countplot(x='flight_day', data=df, order=['Mon', 'Tue', 'Wed', 'Thu', 'Fri', 'Sat', 'Sun'])\n",
        "plt.title('Distribution of Flight Day')\n",
        "plt.xlabel('Flight Day')\n",
        "plt.ylabel('Count')\n",
        "plt.tight_layout()\n",
        "plt.show()"
      ]
    },
    {
      "cell_type": "code",
      "execution_count": 10,
      "metadata": {},
      "outputs": [
        {
          "data": {
            "image/png": "[encoded data removed]",
            "text/plain": [
              "<Figure size 640x480 with 1 Axes>"
            ]
          },
          "metadata": {},
          "output_type": "display_data"
        }
      ],
      "source": [
        "sns.countplot(x='wants_extra_baggage', data=df)\n",
        "plt.title('Distribution of Extra Baggage Preference')\n",
        "plt.xlabel('Wants Extra Baggage')\n",
        "plt.ylabel('Count')\n",
        "plt.tight_layout()\n",
        "plt.show()"
      ]
    },
    {
      "cell_type": "code",
      "execution_count": 11,
      "metadata": {},
      "outputs": [
        {
          "data": {
            "image/png": "[encoded data removed]",
            "text/plain": [
              "<Figure size 640x480 with 1 Axes>"
            ]
          },
          "metadata": {},
          "output_type": "display_data"
        }
      ],
      "source": [
        "# Cell 8: Univariate Visualization - Bar plot for wants_preferred_seat\n",
        "glows = sns.countplot(x='wants_preferred_seat', data=df)\n",
        "plt.title('Distribution of Preferred Seat Preference')\n",
        "plt.xlabel('Wants Preferred Seat')\n",
        "plt.ylabel('Count')\n",
        "plt.tight_layout()\n",
        "plt.show()"
      ]
    },
    {
      "cell_type": "code",
      "execution_count": 12,
      "metadata": {},
      "outputs": [
        {
          "data": {
            "image/png": "[encoded data removed]",
            "text/plain": [
              "<Figure size 800x600 with 1 Axes>"
            ]
          },
          "metadata": {},
          "output_type": "display_data"
        }
      ],
      "source": [
        "# Cell 9: Univariate Visualization - Bar plot for wants_in_flight_meals\n",
        "plt.figure(figsize=(8, 6))\n",
        "sns.countplot(x='wants_in_flight_meals', data=df)\n",
        "plt.title('Distribution of In-Flight Meals Preference')\n",
        "plt.xlabel('Wants In-Flight Meals')\n",
        "plt.ylabel('Count')\n",
        "plt.tight_layout()\n",
        "plt.show()"
      ]
    },
    {
      "cell_type": "code",
      "execution_count": 13,
      "metadata": {},
      "outputs": [
        {
          "data": {
            "image/png": "[encoded data removed]",
            "text/plain": [
              "<Figure size 640x480 with 1 Axes>"
            ]
          },
          "metadata": {},
          "output_type": "display_data"
        }
      ],
      "source": [
        "# Cell 10: Univariate Visualization - Bar plot for booking_complete\n",
        "sns.countplot(x='booking_complete', data=df)\n",
        "plt.title('Distribution of Booking Completion')\n",
        "plt.xlabel('Booking Complete')\n",
        "plt.ylabel('Count')\n",
        "plt.tight_layout()\n",
        "plt.show()"
      ]
    },
    {
      "cell_type": "code",
      "execution_count": 14,
      "metadata": {
        "id": "X_BuD9QPutlp"
      },
      "outputs": [],
      "source": [
        "#Segregating the Numerical Column from the dataset\n",
        "numerical_columns = df.select_dtypes(exclude='object')\n",
        "categorical_columns = df.select_dtypes(include='object')"
      ]
    },
    {
      "cell_type": "code",
      "execution_count": 15,
      "metadata": {
        "colab": {
          "base_uri": "https://localhost:8080/",
          "height": 332
        },
        "id": "m5vaYJqQutj3",
        "outputId": "0020536f-38c1-4667-b848-c82755a17b44"
      },
      "outputs": [
        {
          "data": {
            "text/html": [
              "<div>\n",
              "<style scoped>\n",
              "    .dataframe tbody tr th:only-of-type {\n",
              "        vertical-align: middle;\n",
              "    }\n",
              "\n",
              "    .dataframe tbody tr th {\n",
              "        vertical-align: top;\n",
              "    }\n",
              "\n",
              "    .dataframe thead th {\n",
              "        text-align: right;\n",
              "    }\n",
              "</style>\n",
              "<table border=\"1\" class=\"dataframe\">\n",
              "  <thead>\n",
              "    <tr style=\"text-align: right;\">\n",
              "      <th></th>\n",
              "      <th>Feature</th>\n",
              "      <th>Mean</th>\n",
              "      <th>Median</th>\n",
              "      <th>Q1</th>\n",
              "      <th>Q3</th>\n",
              "      <th>IQR</th>\n",
              "      <th>Max</th>\n",
              "      <th>Min</th>\n",
              "      <th>Skewness</th>\n",
              "      <th>Kurtosis</th>\n",
              "      <th>Variance</th>\n",
              "      <th>Outlier Comment</th>\n",
              "    </tr>\n",
              "  </thead>\n",
              "  <tbody>\n",
              "    <tr>\n",
              "      <th>0</th>\n",
              "      <td>num_passengers</td>\n",
              "      <td>1.591240</td>\n",
              "      <td>1.00</td>\n",
              "      <td>1.00</td>\n",
              "      <td>2.00</td>\n",
              "      <td>1.00</td>\n",
              "      <td>9.0</td>\n",
              "      <td>1.00</td>\n",
              "      <td>2.690908</td>\n",
              "      <td>10.062131</td>\n",
              "      <td>1.040736</td>\n",
              "      <td>Has Outliers</td>\n",
              "    </tr>\n",
              "    <tr>\n",
              "      <th>1</th>\n",
              "      <td>purchase_lead</td>\n",
              "      <td>84.940480</td>\n",
              "      <td>51.00</td>\n",
              "      <td>21.00</td>\n",
              "      <td>115.00</td>\n",
              "      <td>94.00</td>\n",
              "      <td>867.0</td>\n",
              "      <td>0.00</td>\n",
              "      <td>1.653035</td>\n",
              "      <td>2.486702</td>\n",
              "      <td>8181.451806</td>\n",
              "      <td>Has Outliers</td>\n",
              "    </tr>\n",
              "    <tr>\n",
              "      <th>2</th>\n",
              "      <td>length_of_stay</td>\n",
              "      <td>23.044560</td>\n",
              "      <td>17.00</td>\n",
              "      <td>5.00</td>\n",
              "      <td>28.00</td>\n",
              "      <td>23.00</td>\n",
              "      <td>778.0</td>\n",
              "      <td>0.00</td>\n",
              "      <td>5.274743</td>\n",
              "      <td>48.810238</td>\n",
              "      <td>1148.374182</td>\n",
              "      <td>Has Outliers</td>\n",
              "    </tr>\n",
              "    <tr>\n",
              "      <th>3</th>\n",
              "      <td>flight_hour</td>\n",
              "      <td>9.066340</td>\n",
              "      <td>9.00</td>\n",
              "      <td>5.00</td>\n",
              "      <td>13.00</td>\n",
              "      <td>8.00</td>\n",
              "      <td>23.0</td>\n",
              "      <td>0.00</td>\n",
              "      <td>0.396623</td>\n",
              "      <td>-0.302438</td>\n",
              "      <td>29.296885</td>\n",
              "      <td>No Outliers</td>\n",
              "    </tr>\n",
              "    <tr>\n",
              "      <th>4</th>\n",
              "      <td>wants_extra_baggage</td>\n",
              "      <td>0.668780</td>\n",
              "      <td>1.00</td>\n",
              "      <td>0.00</td>\n",
              "      <td>1.00</td>\n",
              "      <td>1.00</td>\n",
              "      <td>1.0</td>\n",
              "      <td>0.00</td>\n",
              "      <td>-0.717239</td>\n",
              "      <td>-1.485627</td>\n",
              "      <td>0.221518</td>\n",
              "      <td>No Outliers</td>\n",
              "    </tr>\n",
              "    <tr>\n",
              "      <th>5</th>\n",
              "      <td>wants_preferred_seat</td>\n",
              "      <td>0.296960</td>\n",
              "      <td>0.00</td>\n",
              "      <td>0.00</td>\n",
              "      <td>1.00</td>\n",
              "      <td>1.00</td>\n",
              "      <td>1.0</td>\n",
              "      <td>0.00</td>\n",
              "      <td>0.888762</td>\n",
              "      <td>-1.210150</td>\n",
              "      <td>0.208779</td>\n",
              "      <td>No Outliers</td>\n",
              "    </tr>\n",
              "    <tr>\n",
              "      <th>6</th>\n",
              "      <td>wants_in_flight_meals</td>\n",
              "      <td>0.427140</td>\n",
              "      <td>0.00</td>\n",
              "      <td>0.00</td>\n",
              "      <td>1.00</td>\n",
              "      <td>1.00</td>\n",
              "      <td>1.0</td>\n",
              "      <td>0.00</td>\n",
              "      <td>0.294593</td>\n",
              "      <td>-1.913291</td>\n",
              "      <td>0.244696</td>\n",
              "      <td>No Outliers</td>\n",
              "    </tr>\n",
              "    <tr>\n",
              "      <th>7</th>\n",
              "      <td>flight_duration</td>\n",
              "      <td>7.277561</td>\n",
              "      <td>7.57</td>\n",
              "      <td>5.62</td>\n",
              "      <td>8.83</td>\n",
              "      <td>3.21</td>\n",
              "      <td>9.5</td>\n",
              "      <td>4.67</td>\n",
              "      <td>-0.360080</td>\n",
              "      <td>-1.373927</td>\n",
              "      <td>2.240599</td>\n",
              "      <td>No Outliers</td>\n",
              "    </tr>\n",
              "    <tr>\n",
              "      <th>8</th>\n",
              "      <td>booking_complete</td>\n",
              "      <td>0.149560</td>\n",
              "      <td>0.00</td>\n",
              "      <td>0.00</td>\n",
              "      <td>0.00</td>\n",
              "      <td>0.00</td>\n",
              "      <td>1.0</td>\n",
              "      <td>0.00</td>\n",
              "      <td>1.965292</td>\n",
              "      <td>1.862448</td>\n",
              "      <td>0.127194</td>\n",
              "      <td>Has Outliers</td>\n",
              "    </tr>\n",
              "  </tbody>\n",
              "</table>\n",
              "</div>"
            ],
            "text/plain": [
              "                 Feature       Mean  Median     Q1      Q3    IQR    Max  \\\n",
              "0         num_passengers   1.591240    1.00   1.00    2.00   1.00    9.0   \n",
              "1          purchase_lead  84.940480   51.00  21.00  115.00  94.00  867.0   \n",
              "2         length_of_stay  23.044560   17.00   5.00   28.00  23.00  778.0   \n",
              "3            flight_hour   9.066340    9.00   5.00   13.00   8.00   23.0   \n",
              "4    wants_extra_baggage   0.668780    1.00   0.00    1.00   1.00    1.0   \n",
              "5   wants_preferred_seat   0.296960    0.00   0.00    1.00   1.00    1.0   \n",
              "6  wants_in_flight_meals   0.427140    0.00   0.00    1.00   1.00    1.0   \n",
              "7        flight_duration   7.277561    7.57   5.62    8.83   3.21    9.5   \n",
              "8       booking_complete   0.149560    0.00   0.00    0.00   0.00    1.0   \n",
              "\n",
              "    Min  Skewness   Kurtosis     Variance Outlier Comment  \n",
              "0  1.00  2.690908  10.062131     1.040736    Has Outliers  \n",
              "1  0.00  1.653035   2.486702  8181.451806    Has Outliers  \n",
              "2  0.00  5.274743  48.810238  1148.374182    Has Outliers  \n",
              "3  0.00  0.396623  -0.302438    29.296885     No Outliers  \n",
              "4  0.00 -0.717239  -1.485627     0.221518     No Outliers  \n",
              "5  0.00  0.888762  -1.210150     0.208779     No Outliers  \n",
              "6  0.00  0.294593  -1.913291     0.244696     No Outliers  \n",
              "7  4.67 -0.360080  -1.373927     2.240599     No Outliers  \n",
              "8  0.00  1.965292   1.862448     0.127194    Has Outliers  "
            ]
          },
          "execution_count": 15,
          "metadata": {},
          "output_type": "execute_result"
        }
      ],
      "source": [
        "from collections import OrderedDict\n",
        "\n",
        "stats = []\n",
        "\n",
        "for col in df.select_dtypes(include=['int64', 'float64']).columns:\n",
        "    stats.append(OrderedDict({\n",
        "        'Feature': col,\n",
        "        'Mean': df[col].mean(),\n",
        "        'Median': df[col].median(),\n",
        "        'Q1': df[col].quantile(0.25),\n",
        "        'Q3': df[col].quantile(0.75),\n",
        "        'IQR': df[col].quantile(0.75) - df[col].quantile(0.25),\n",
        "        'Max': df[col].max(),\n",
        "        'Min': df[col].min(),\n",
        "        'Skewness': df[col].skew(),\n",
        "        'Kurtosis': df[col].kurt(),\n",
        "        'Variance': df[col].var()\n",
        "    }))\n",
        "\n",
        "report = pd.DataFrame(stats)\n",
        "\n",
        "# Outlier flag\n",
        "outlier_label = []\n",
        "for col in report['Feature']:\n",
        "    Q1 = df[col].quantile(0.25)\n",
        "    Q3 = df[col].quantile(0.75)\n",
        "    IQR = Q3 - Q1\n",
        "    LW = Q1 - 1.5 * IQR\n",
        "    UW = Q3 + 1.5 * IQR\n",
        "    outliers = df[(df[col] < LW) | (df[col] > UW)]\n",
        "    outlier_label.append('Has Outliers' if not outliers.empty else 'No Outliers')\n",
        "\n",
        "report['Outlier Comment'] = outlier_label\n",
        "report\n"
      ]
    },
    {
      "cell_type": "code",
      "execution_count": 16,
      "metadata": {},
      "outputs": [],
      "source": [
        "logging.info('Checking for the outliers')"
      ]
    },
    {
      "cell_type": "code",
      "execution_count": 17,
      "metadata": {
        "colab": {
          "base_uri": "https://localhost:8080/"
        },
        "id": "iWM7sfl1uth_",
        "outputId": "6206da5e-38f7-4cec-94ae-a0fdc75e5f1c"
      },
      "outputs": [
        {
          "name": "stdout",
          "output_type": "stream",
          "text": [
            "----------------------------------------------------------\n",
            "Replaced 2903 outliers in 'num_passengers' with median\n",
            "----------------------------------------------------------\n",
            "Replaced 3456 outliers in 'purchase_lead' with median\n",
            "----------------------------------------------------------\n",
            "Replaced 3807 outliers in 'length_of_stay' with median\n",
            "----------------------------------------------------------\n",
            "No Outliers found in 'flight_hour'\n",
            "----------------------------------------------------------\n",
            "No Outliers found in 'wants_extra_baggage'\n",
            "----------------------------------------------------------\n",
            "No Outliers found in 'wants_preferred_seat'\n",
            "----------------------------------------------------------\n",
            "No Outliers found in 'wants_in_flight_meals'\n",
            "----------------------------------------------------------\n",
            "No Outliers found in 'flight_duration'\n"
          ]
        }
      ],
      "source": [
        "#Replacing Outliers with the Median Strategy\n",
        "for col in df.select_dtypes(include='number').columns:\n",
        "    if col != 'booking_complete':  # Don't modify target column\n",
        "        Q1 = df[col].quantile(0.25)\n",
        "        Q3 = df[col].quantile(0.75)\n",
        "        IQR = Q3 - Q1\n",
        "        lower_bound = Q1 - 1.5 * IQR #Lower Whisker Line\n",
        "        upper_bound = Q3 + 1.5 * IQR #Upper Whisker Line\n",
        "\n",
        "        outliers = (df[col] < lower_bound) | (df[col] > upper_bound)\n",
        "        outlier_count = outliers.sum()\n",
        "\n",
        "        if outlier_count > 0:\n",
        "            replacement = df[col].median()\n",
        "            df.loc[outliers,col] = replacement\n",
        "            print('----------------------------------------------------------')\n",
        "            print(f\"Replaced {outlier_count} outliers in '{col}' with median\")\n",
        "        else:\n",
        "            print('----------------------------------------------------------')\n",
        "            print(f\"No Outliers found in '{col}'\")"
      ]
    },
    {
      "cell_type": "code",
      "execution_count": 18,
      "metadata": {},
      "outputs": [],
      "source": [
        "logging.info('Checking for Outliers Process done successfully')"
      ]
    },
    {
      "cell_type": "code",
      "execution_count": 19,
      "metadata": {
        "colab": {
          "base_uri": "https://localhost:8080/"
        },
        "id": "7iI7nPjbutf5",
        "outputId": "4aaef7c1-2ad4-4c0d-d981-03930c1a7eca"
      },
      "outputs": [
        {
          "name": "stdout",
          "output_type": "stream",
          "text": [
            "--------------------------------------\n",
            "num_passengers value counts\n",
            "num_passengers\n",
            "1    34255\n",
            "2    12804\n",
            "3     2941\n",
            "Name: count, dtype: int64\n",
            "--------------------------------------\n",
            "purchase_lead value counts\n",
            "purchase_lead\n",
            "51     3760\n",
            "1       685\n",
            "2       670\n",
            "6       653\n",
            "7       638\n",
            "       ... \n",
            "248      38\n",
            "239      37\n",
            "253      37\n",
            "209      35\n",
            "251      32\n",
            "Name: count, Length: 257, dtype: int64\n",
            "--------------------------------------\n",
            "length_of_stay value counts\n",
            "length_of_stay\n",
            "6     7757\n",
            "5     7286\n",
            "17    5656\n",
            "4     5655\n",
            "3     2839\n",
            "21    1392\n",
            "18    1356\n",
            "20    1285\n",
            "22    1285\n",
            "19    1253\n",
            "29    1040\n",
            "23     941\n",
            "2      866\n",
            "28     851\n",
            "30     793\n",
            "27     768\n",
            "24     765\n",
            "25     650\n",
            "31     634\n",
            "26     600\n",
            "32     456\n",
            "33     421\n",
            "34     394\n",
            "35     383\n",
            "36     373\n",
            "37     284\n",
            "1      261\n",
            "41     249\n",
            "38     249\n",
            "42     230\n",
            "40     217\n",
            "39     213\n",
            "43     205\n",
            "44     177\n",
            "45     167\n",
            "61     155\n",
            "59     150\n",
            "62     148\n",
            "47     148\n",
            "57     139\n",
            "46     137\n",
            "48     133\n",
            "60     130\n",
            "49     127\n",
            "58     110\n",
            "50     109\n",
            "56     109\n",
            "55     106\n",
            "51     101\n",
            "52      81\n",
            "54      81\n",
            "53      76\n",
            "0        9\n",
            "Name: count, dtype: int64\n",
            "--------------------------------------\n",
            "flight_hour value counts\n",
            "flight_hour\n",
            "8     3165\n",
            "12    3163\n",
            "9     3132\n",
            "7     3126\n",
            "11    3110\n",
            "13    3101\n",
            "10    3085\n",
            "6     3050\n",
            "5     2851\n",
            "4     2843\n",
            "14    2833\n",
            "3     2655\n",
            "2     2642\n",
            "15    2234\n",
            "1     2089\n",
            "16    1557\n",
            "0     1539\n",
            "23     986\n",
            "17     861\n",
            "22     579\n",
            "18     439\n",
            "21     389\n",
            "19     295\n",
            "20     276\n",
            "Name: count, dtype: int64\n",
            "--------------------------------------\n",
            "wants_extra_baggage value counts\n",
            "wants_extra_baggage\n",
            "1    33439\n",
            "0    16561\n",
            "Name: count, dtype: int64\n",
            "--------------------------------------\n",
            "wants_preferred_seat value counts\n",
            "wants_preferred_seat\n",
            "0    35152\n",
            "1    14848\n",
            "Name: count, dtype: int64\n",
            "--------------------------------------\n",
            "wants_in_flight_meals value counts\n",
            "wants_in_flight_meals\n",
            "0    28643\n",
            "1    21357\n",
            "Name: count, dtype: int64\n",
            "--------------------------------------\n",
            "flight_duration value counts\n",
            "flight_duration\n",
            "8.83    14520\n",
            "8.58     6965\n",
            "5.62     5524\n",
            "6.62     4721\n",
            "7.00     3374\n",
            "7.57     2835\n",
            "4.67     2743\n",
            "6.42     1737\n",
            "5.33     1554\n",
            "4.75     1255\n",
            "6.33     1190\n",
            "8.67      807\n",
            "5.52      667\n",
            "5.07      512\n",
            "4.72      502\n",
            "8.15      311\n",
            "5.00      241\n",
            "7.42      224\n",
            "4.83      156\n",
            "5.13      125\n",
            "9.50       37\n",
            "Name: count, dtype: int64\n",
            "--------------------------------------\n",
            "booking_complete value counts\n",
            "booking_complete\n",
            "0    42522\n",
            "1     7478\n",
            "Name: count, dtype: int64\n"
          ]
        }
      ],
      "source": [
        "for i in numerical_columns:\n",
        "    print('--------------------------------------')\n",
        "    print(f\"{i} value counts\")\n",
        "    print(df[i].value_counts())"
      ]
    },
    {
      "cell_type": "code",
      "execution_count": 20,
      "metadata": {
        "colab": {
          "base_uri": "https://localhost:8080/"
        },
        "id": "jCPEtaeVutdj",
        "outputId": "bebfe908-785b-47c9-8247-3c3de1217bac"
      },
      "outputs": [
        {
          "name": "stdout",
          "output_type": "stream",
          "text": [
            "---------------------------------------\n",
            "sales_channel Value Counts: \n",
            "sales_channel\n",
            "Internet    44382\n",
            "Mobile       5618\n",
            "Name: count, dtype: int64\n",
            "---------------------------------------\n",
            "trip_type Value Counts: \n",
            "trip_type\n",
            "RoundTrip     49497\n",
            "OneWay          387\n",
            "CircleTrip      116\n",
            "Name: count, dtype: int64\n",
            "---------------------------------------\n",
            "flight_day Value Counts: \n",
            "flight_day\n",
            "Mon    8102\n",
            "Wed    7674\n",
            "Tue    7673\n",
            "Thu    7424\n",
            "Fri    6761\n",
            "Sun    6554\n",
            "Sat    5812\n",
            "Name: count, dtype: int64\n",
            "---------------------------------------\n",
            "route Value Counts: \n",
            "route\n",
            "AKLKUL    2680\n",
            "PENTPE     924\n",
            "MELSGN     842\n",
            "ICNSIN     801\n",
            "DMKKIX     744\n",
            "          ... \n",
            "PERSWA       1\n",
            "LBUTPE       1\n",
            "HKTJED       1\n",
            "CXRMEL       1\n",
            "KBRWUH       1\n",
            "Name: count, Length: 799, dtype: int64\n",
            "---------------------------------------\n",
            "booking_origin Value Counts: \n",
            "booking_origin\n",
            "Australia           17872\n",
            "Malaysia             7174\n",
            "South Korea          4559\n",
            "Japan                3885\n",
            "China                3387\n",
            "                    ...  \n",
            "Ghana                   1\n",
            "Bulgaria                1\n",
            "Papua New Guinea        1\n",
            "Panama                  1\n",
            "Tonga                   1\n",
            "Name: count, Length: 104, dtype: int64\n"
          ]
        }
      ],
      "source": [
        "for col in categorical_columns:\n",
        "    print('---------------------------------------')\n",
        "    print(f'{col} Value Counts: ')\n",
        "    print(df[col].value_counts())\n"
      ]
    },
    {
      "cell_type": "code",
      "execution_count": 21,
      "metadata": {},
      "outputs": [],
      "source": [
        "logging.info('Performing Feature Engineering')"
      ]
    },
    {
      "cell_type": "code",
      "execution_count": null,
      "metadata": {
        "id": "r-uHPRIwutbv"
      },
      "outputs": [],
      "source": [
        "#Feature Engineering\n",
        "def hour_bin(hour):\n",
        "    if 5 <= hour < 12:\n",
        "        return 'morning'\n",
        "    elif 12 <= hour < 18:\n",
        "        return 'afternoon'\n",
        "    else:\n",
        "        return 'night'\n",
        "\n",
        "df['stay_per_passenger'] = df['length_of_stay'] / (df['num_passengers'] + 1)\n",
        "df['lead_time_ratio'] = df['purchase_lead'] / (df['length_of_stay'] + 1)\n",
        "df['is_weekend_flight'] = df['flight_day'].isin(['Saturday', 'Sunday']).astype(int)\n",
        "df['flight_period'] = df['flight_hour'].apply(hour_bin)"
      ]
    },
    {
      "cell_type": "code",
      "execution_count": 23,
      "metadata": {
        "colab": {
          "base_uri": "https://localhost:8080/"
        },
        "id": "bonxYQPeutZ-",
        "outputId": "1b5d94dd-d28c-4313-f767-fcb8e6f49876"
      },
      "outputs": [
        {
          "name": "stdout",
          "output_type": "stream",
          "text": [
            "Categorical columns to encode: ['sales_channel', 'trip_type', 'flight_day', 'route', 'booking_origin', 'flight_period']\n"
          ]
        }
      ],
      "source": [
        "categorical_columns = df.select_dtypes(include='object')\n",
        "print(\"Categorical columns to encode:\", categorical_columns.columns.tolist())"
      ]
    },
    {
      "cell_type": "code",
      "execution_count": 24,
      "metadata": {},
      "outputs": [],
      "source": [
        "logging.info('Label Encoding the Categorical Columns')"
      ]
    },
    {
      "cell_type": "code",
      "execution_count": 25,
      "metadata": {
        "colab": {
          "base_uri": "https://localhost:8080/"
        },
        "id": "NNmzdQp4utXo",
        "outputId": "5aaec461-edee-4d61-96d2-520cabbed7c2"
      },
      "outputs": [
        {
          "name": "stdout",
          "output_type": "stream",
          "text": [
            "Encoded column: sales_channel\n",
            "Encoded column: trip_type\n",
            "Encoded column: flight_day\n",
            "Encoded column: route\n",
            "Encoded column: booking_origin\n",
            "Encoded column: flight_period\n",
            "\n",
            "Data types after encoding:\n",
            "num_passengers             int64\n",
            "sales_channel              int64\n",
            "trip_type                  int64\n",
            "purchase_lead              int64\n",
            "length_of_stay             int64\n",
            "flight_hour                int64\n",
            "flight_day                 int64\n",
            "route                      int64\n",
            "booking_origin             int64\n",
            "wants_extra_baggage        int64\n",
            "wants_preferred_seat       int64\n",
            "wants_in_flight_meals      int64\n",
            "flight_duration          float64\n",
            "booking_complete           int64\n",
            "stay_per_passenger       float64\n",
            "lead_time_ratio          float64\n",
            "is_weekend_flight          int64\n",
            "flight_period              int64\n",
            "dtype: object\n"
          ]
        }
      ],
      "source": [
        "from sklearn.preprocessing import LabelEncoder\n",
        "# Apply label encoding to all categorical columns\n",
        "for col in categorical_columns.columns:\n",
        "    if col != 'booking_complete':  # Don't encode target if it's string\n",
        "        le = LabelEncoder()\n",
        "        df[col] = le.fit_transform(df[col])\n",
        "        print(f\"Encoded column: {col}\")\n",
        "\n",
        "# Verify no object columns remain (except target if it's supposed to be object)\n",
        "print(\"\\nData types after encoding:\")\n",
        "print(df.dtypes)"
      ]
    },
    {
      "cell_type": "code",
      "execution_count": 26,
      "metadata": {},
      "outputs": [],
      "source": [
        "logging.info('Checking for the Variance Inflation Rate')"
      ]
    },
    {
      "cell_type": "code",
      "execution_count": 27,
      "metadata": {
        "colab": {
          "base_uri": "https://localhost:8080/",
          "height": 551
        },
        "id": "SwQyhkvQvZNx",
        "outputId": "1b910667-d931-4bec-c9f4-bcda445c83b6"
      },
      "outputs": [
        {
          "data": {
            "text/html": [
              "<div>\n",
              "<style scoped>\n",
              "    .dataframe tbody tr th:only-of-type {\n",
              "        vertical-align: middle;\n",
              "    }\n",
              "\n",
              "    .dataframe tbody tr th {\n",
              "        vertical-align: top;\n",
              "    }\n",
              "\n",
              "    .dataframe thead th {\n",
              "        text-align: right;\n",
              "    }\n",
              "</style>\n",
              "<table border=\"1\" class=\"dataframe\">\n",
              "  <thead>\n",
              "    <tr style=\"text-align: right;\">\n",
              "      <th></th>\n",
              "      <th>Feature</th>\n",
              "      <th>VIF</th>\n",
              "    </tr>\n",
              "  </thead>\n",
              "  <tbody>\n",
              "    <tr>\n",
              "      <th>4</th>\n",
              "      <td>length_of_stay</td>\n",
              "      <td>76.340181</td>\n",
              "    </tr>\n",
              "    <tr>\n",
              "      <th>13</th>\n",
              "      <td>stay_per_passenger</td>\n",
              "      <td>72.340268</td>\n",
              "    </tr>\n",
              "    <tr>\n",
              "      <th>2</th>\n",
              "      <td>trip_type</td>\n",
              "      <td>50.277014</td>\n",
              "    </tr>\n",
              "    <tr>\n",
              "      <th>12</th>\n",
              "      <td>flight_duration</td>\n",
              "      <td>24.894816</td>\n",
              "    </tr>\n",
              "    <tr>\n",
              "      <th>0</th>\n",
              "      <td>num_passengers</td>\n",
              "      <td>14.007919</td>\n",
              "    </tr>\n",
              "    <tr>\n",
              "      <th>3</th>\n",
              "      <td>purchase_lead</td>\n",
              "      <td>5.776718</td>\n",
              "    </tr>\n",
              "    <tr>\n",
              "      <th>5</th>\n",
              "      <td>flight_hour</td>\n",
              "      <td>5.277315</td>\n",
              "    </tr>\n",
              "    <tr>\n",
              "      <th>14</th>\n",
              "      <td>lead_time_ratio</td>\n",
              "      <td>5.050623</td>\n",
              "    </tr>\n",
              "    <tr>\n",
              "      <th>7</th>\n",
              "      <td>route</td>\n",
              "      <td>4.009072</td>\n",
              "    </tr>\n",
              "    <tr>\n",
              "      <th>15</th>\n",
              "      <td>flight_period</td>\n",
              "      <td>3.965229</td>\n",
              "    </tr>\n",
              "    <tr>\n",
              "      <th>9</th>\n",
              "      <td>wants_extra_baggage</td>\n",
              "      <td>3.480801</td>\n",
              "    </tr>\n",
              "    <tr>\n",
              "      <th>6</th>\n",
              "      <td>flight_day</td>\n",
              "      <td>3.265672</td>\n",
              "    </tr>\n",
              "    <tr>\n",
              "      <th>8</th>\n",
              "      <td>booking_origin</td>\n",
              "      <td>2.648919</td>\n",
              "    </tr>\n",
              "    <tr>\n",
              "      <th>11</th>\n",
              "      <td>wants_in_flight_meals</td>\n",
              "      <td>2.032469</td>\n",
              "    </tr>\n",
              "    <tr>\n",
              "      <th>10</th>\n",
              "      <td>wants_preferred_seat</td>\n",
              "      <td>1.636420</td>\n",
              "    </tr>\n",
              "    <tr>\n",
              "      <th>1</th>\n",
              "      <td>sales_channel</td>\n",
              "      <td>1.141116</td>\n",
              "    </tr>\n",
              "  </tbody>\n",
              "</table>\n",
              "</div>"
            ],
            "text/plain": [
              "                  Feature        VIF\n",
              "4          length_of_stay  76.340181\n",
              "13     stay_per_passenger  72.340268\n",
              "2               trip_type  50.277014\n",
              "12        flight_duration  24.894816\n",
              "0          num_passengers  14.007919\n",
              "3           purchase_lead   5.776718\n",
              "5             flight_hour   5.277315\n",
              "14        lead_time_ratio   5.050623\n",
              "7                   route   4.009072\n",
              "15          flight_period   3.965229\n",
              "9     wants_extra_baggage   3.480801\n",
              "6              flight_day   3.265672\n",
              "8          booking_origin   2.648919\n",
              "11  wants_in_flight_meals   2.032469\n",
              "10   wants_preferred_seat   1.636420\n",
              "1           sales_channel   1.141116"
            ]
          },
          "execution_count": 27,
          "metadata": {},
          "output_type": "execute_result"
        }
      ],
      "source": [
        "from statsmodels.stats.outliers_influence import variance_inflation_factor\n",
        "\n",
        "def calculate_vif(data):\n",
        "    # Select only numeric columns\n",
        "    numeric_data = data.select_dtypes(include=['int64', 'float64'])\n",
        "\n",
        "    # Drop constant columns\n",
        "    constant_cols = [col for col in numeric_data.columns if numeric_data[col].nunique() == 1]\n",
        "    numeric_data = numeric_data.drop(columns=constant_cols)\n",
        "\n",
        "    vif = pd.DataFrame()\n",
        "    vif[\"Feature\"] = numeric_data.columns\n",
        "    vif[\"VIF\"] = [variance_inflation_factor(numeric_data.values, i) for i in range(numeric_data.shape[1])]\n",
        "    return vif.sort_values(by=\"VIF\", ascending=False)\n",
        "\n",
        "\n",
        "calculate_vif(df.drop(columns=['booking_complete']))\n"
      ]
    },
    {
      "cell_type": "code",
      "execution_count": 28,
      "metadata": {
        "id": "ERRxNCaIvZLc"
      },
      "outputs": [],
      "source": [
        "from sklearn.model_selection import train_test_split\n",
        "\n",
        "X = df.drop(columns=['booking_complete', 'trip_type','route','booking_origin','is_weekend_flight'],axis=1)\n",
        "y = df['booking_complete']"
      ]
    },
    {
      "cell_type": "code",
      "execution_count": 29,
      "metadata": {
        "id": "i_9sHnLGvZIT"
      },
      "outputs": [],
      "source": [
        "X_train, X_test, y_train, y_test = train_test_split(X, y, test_size=0.3, random_state=42)"
      ]
    },
    {
      "cell_type": "code",
      "execution_count": 30,
      "metadata": {
        "colab": {
          "base_uri": "https://localhost:8080/",
          "height": 178
        },
        "id": "YlTuyQq311X3",
        "outputId": "603159a1-d37d-4c17-a770-cafb4df0abb4"
      },
      "outputs": [
        {
          "data": {
            "text/plain": [
              "booking_complete\n",
              "0    29697\n",
              "1     5303\n",
              "Name: count, dtype: int64"
            ]
          },
          "execution_count": 30,
          "metadata": {},
          "output_type": "execute_result"
        }
      ],
      "source": [
        "y_train.value_counts()"
      ]
    },
    {
      "cell_type": "code",
      "execution_count": 31,
      "metadata": {},
      "outputs": [],
      "source": [
        "logging.info('Balancing the Dataset')"
      ]
    },
    {
      "cell_type": "code",
      "execution_count": 32,
      "metadata": {
        "id": "tUT4Txvn2XoS"
      },
      "outputs": [],
      "source": [
        "from imblearn.over_sampling import SMOTE\n",
        "smt = SMOTE(random_state=42)\n",
        "X_train, y_train = smt.fit_resample(X_train, y_train)"
      ]
    },
    {
      "cell_type": "code",
      "execution_count": 33,
      "metadata": {
        "id": "bmxLJAdPvZGd"
      },
      "outputs": [],
      "source": [
        "from sklearn.preprocessing import MinMaxScaler,RobustScaler\n",
        "sc = MinMaxScaler()\n",
        "X_train = sc.fit_transform(X_train)\n",
        "X_test = sc.transform(X_test)"
      ]
    },
    {
      "cell_type": "code",
      "execution_count": 34,
      "metadata": {
        "colab": {
          "base_uri": "https://localhost:8080/"
        },
        "id": "LhcnXb47vZEP",
        "outputId": "a6e0b3ad-e2e7-4b01-a1ad-70a212b77248"
      },
      "outputs": [
        {
          "name": "stdout",
          "output_type": "stream",
          "text": [
            "The Catboost Classifier Accuracy: 84.86 %\n"
          ]
        }
      ],
      "source": [
        "from catboost import CatBoostClassifier\n",
        "from sklearn.metrics import accuracy_score\n",
        "\n",
        "CBC = CatBoostClassifier(verbose=False).fit(X_train,y_train)\n",
        "y_pred_CBC = CBC.predict(X_test)\n",
        "print(\"The Catboost Classifier Accuracy:\", round(accuracy_score(y_test, y_pred_CBC) * 100, 2), \"%\")"
      ]
    },
    {
      "cell_type": "code",
      "execution_count": 35,
      "metadata": {},
      "outputs": [],
      "source": [
        "logging.info('Applying PCA')"
      ]
    },
    {
      "cell_type": "code",
      "execution_count": 36,
      "metadata": {},
      "outputs": [
        {
          "name": "stdout",
          "output_type": "stream",
          "text": [
            "Explained Variance Ratio: [0.24277025 0.37557567 0.4922865  0.60198778 0.6827013  0.76014784\n",
            " 0.82851891 0.89152668 0.9368852 ]\n",
            "Number of components selected: 9\n"
          ]
        }
      ],
      "source": [
        "from sklearn.decomposition import PCA\n",
        "\n",
        "# Step 1: Prepare data\n",
        "X = df.drop(columns=['booking_complete', 'trip_type', 'route', 'booking_origin'])  # Drop unused\n",
        "y = df['booking_complete']\n",
        "\n",
        "# Step 2: Scale the data\n",
        "scaler = MinMaxScaler()\n",
        "X_scaled = scaler.fit_transform(X)\n",
        "\n",
        "# Step 3: Determine # of components to retain 90% variance\n",
        "for i in range(1, X.shape[1] + 1):\n",
        "    pca = PCA(n_components=i)\n",
        "    pca.fit(X_scaled)\n",
        "    evr = np.cumsum(pca.explained_variance_ratio_)\n",
        "    if evr[i - 1] >= 0.90:\n",
        "        pcs = i\n",
        "        break\n",
        "\n",
        "print(\"Explained Variance Ratio:\", evr)\n",
        "print(\"Number of components selected:\", pcs)\n",
        "\n",
        "# Step 4: Apply PCA\n",
        "pca = PCA(n_components=pcs)\n",
        "pca_data = pca.fit_transform(X_scaled)\n",
        "\n",
        "# Step 5: Create new DataFrame with principal components\n",
        "pca_columns = [f'PC{j+1}' for j in range(pcs)]\n",
        "pca_df = pd.DataFrame(pca_data, columns=pca_columns)\n",
        "\n",
        "# Step 6: Add the target column\n",
        "pca_df['booking_complete'] = y.values"
      ]
    },
    {
      "cell_type": "code",
      "execution_count": 37,
      "metadata": {},
      "outputs": [],
      "source": [
        "logging.info('Training the Model.......')"
      ]
    },
    {
      "cell_type": "code",
      "execution_count": 38,
      "metadata": {},
      "outputs": [
        {
          "name": "stdout",
          "output_type": "stream",
          "text": [
            "The CatBoost Classifier Accuracy: 85.45 %\n"
          ]
        }
      ],
      "source": [
        "X = pca_df.drop(columns=['booking_complete'])\n",
        "y = pca_df['booking_complete']\n",
        "\n",
        "X_train, X_test, y_train, y_test = train_test_split(X, y, test_size=0.3, random_state=42)\n",
        "\n",
        "CBC = CatBoostClassifier(verbose=False).fit(X_train, y_train)\n",
        "\n",
        "# Step 9: Predict and evaluate\n",
        "y_pred_CBC = CBC.predict(X_test)\n",
        "print(\"The CatBoost Classifier Accuracy:\", round(accuracy_score(y_test, y_pred_CBC) * 100, 2), \"%\")"
      ]
    },
    {
      "cell_type": "code",
      "execution_count": 39,
      "metadata": {},
      "outputs": [],
      "source": [
        "logging.info('Model Training Completed Successfully')"
      ]
    },
    {
      "cell_type": "code",
      "execution_count": 40,
      "metadata": {},
      "outputs": [],
      "source": [
        "accuracy = accuracy_score(y_test, y_pred_CBC)\n",
        "logging.info(\"The Model Accuracy After Training: %.2f%%\", accuracy * 100)"
      ]
    }
  ],
  "metadata": {
    "colab": {
      "provenance": []
    },
    "kernelspec": {
      "display_name": "Python 3",
      "name": "python3"
    },
    "language_info": {
      "codemirror_mode": {
        "name": "ipython",
        "version": 3
      },
      "file_extension": ".py",
      "mimetype": "text/x-python",
      "name": "python",
      "nbconvert_exporter": "python",
      "pygments_lexer": "ipython3",
      "version": "3.10.11"
    }
  },
  "nbformat": 4,
  "nbformat_minor": 0
}
